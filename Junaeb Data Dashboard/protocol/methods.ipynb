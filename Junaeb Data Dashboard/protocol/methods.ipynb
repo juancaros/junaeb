{
 "cells": [
  {
   "cell_type": "markdown",
   "metadata": {},
   "source": [
    "# Theory and methods"
   ]
  },
  {
   "cell_type": "code",
   "execution_count": 11,
   "metadata": {},
   "outputs": [],
   "source": [
    "import numpy as np\n",
    "import pandas as pd\n",
    "import matplotlib as plt\n",
    "import scipy\n",
    "import semopy "
   ]
  },
  {
   "cell_type": "markdown",
   "metadata": {},
   "source": [
    "## A simple model of skills accumulation\n",
    "\n",
    "The dynamics of child development has been increasingly a subject of study among researches in a wide range of disciplines. A simple theoretical framework is based on the idea of fixed, discrete set of skills (e.g. cognition, socioemotional, prysical health, nutrition) which evolve over time based on an unknown accumulation process (i.e. techonology). We can easily represent such structure as:\n",
    "\n",
    "$$\\theta_{k,t+1}=f_{k,t}(\\theta_{k,t}, I_t, \\theta_H, E_{k,t})$$\n",
    "\n",
    "Where for $k$ different skills ($\\theta$), the accumulation process is a function of previous skills, parental investments (I), fixed household characteristics (H) and time-varying enviromental factors (E). Similarly, we can describe the parental decisions regarging child invesments as a function child characteristics, household constrains and prices (e.g. alternative cost of time) as follows:\n",
    "\n",
    "$$I_t=g_t(\\Theta_t, Z_t, \\theta_H, v_t)$$\n",
    "\n",
    "Where $\\Theta_t$ is the vector of skills, $Z$ represents prices for different investments and other household information, while $v$ resumes other time-varying unobserved information. $v$ and $E$ is what we normally refer as shocks, i.e. unexpected events that can alter parental decisions but also the capacity of children to accumulate skills (e.g. natural disasters). \n",
    "\n",
    "If we divide the skills between nutritional status and other capacities, we can think about this model graphically as:"
   ]
  },
  {
   "cell_type": "code",
   "execution_count": 12,
   "metadata": {
    "scrolled": true
   },
   "outputs": [
    {
     "data": {
      "image/png": "[encoded data removed]",
      "text/plain": [
       "<IPython.core.display.Image object>"
      ]
     },
     "execution_count": 12,
     "metadata": {},
     "output_type": "execute_result"
    }
   ],
   "source": [
    "from IPython.display import Image\n",
    "Image(filename='../assets/images/dag.png')"
   ]
  },
  {
   "cell_type": "markdown",
   "metadata": {},
   "source": [
    "Ultimately, in onder to characterize, describe and predict skills, we are interested in two key elements. First, is important to measure different skills and parental investments through simple but information-rich indexes, in order to avoid dealing with too many moving pieces. Secondly, given a set of skills available, we would like to describe the evolution of skills across individuals and communities, in order to inform stakeholders as well as target, monitor and evaluate programs. Below we describe both steps.  "
   ]
  },
  {
   "cell_type": "markdown",
   "metadata": {},
   "source": [
    "## Measuring skills and investments\n",
    "\n",
    "While measuring children's physical characteristics (e.g. weight and height) is rather straighfoward and, in some cases, quite fast, measuring other aspects of development is rather cumbersome. Comprehensive, structured tests have been designed by specialists in different areas to measure congition, language, socialization and other skills at different ages. Similar tools have been developed to assess parental behavior and investments. Recently, strong attention has been devoted to understand the quality of information within such instruments. In many cases, only a few of the items in each scale are consistently providing useful signals of an underlying measure of skill (or investment), leaving as an open question whether we require complex and time-consuming tools to assess particular aspects of child development.\n",
    "\n",
    "Here, we took a much more simple approach to measurement, motivated by the availability of administrative data in Chile and the recent experiences in application of latent variable models in social science research. To fix ideas, lets say that we have $j$ different measures (M) for $k$ skills in $t$ periods (there are multiple individuals, which are not indexed in order to facilitate notation). We can construct unidimensional indexes for each skill using this measures given the following dedicated linear system:\n",
    "\n",
    "$$M^j_{kt} = a^j_{kt} + \\lambda^j_{kt}ln \\theta^j_t + \\eta^j_{kt}$$  \n",
    "$$E(ln \\theta^j_t)= \\mu^j_t $$\n",
    "$$Var(\\Theta)= \\Omega_{\\theta}$$\n",
    "\n",
    "This measurement system allows to construct measures of skills (or investments) based in the common information across imperfect measured proxies. We can allow for substantial flexibility in the system, but to ilustrate its application, I will keep it simple. Intuitively, estimating this system involves stablishing some relationship with measures and its best linear projection from a single variable. \n",
    "\n",
    "In the case of parental investments, the Chilean data contains frequency of parent-child interactions in seven different dimensions (reading, playing, singing) in discrete bins (once per month, twice per month, etc). The result of using this method yields a variable that measures parental investments based on the common driver of such interactions, using the information across all households and over time. As for socioemotional skills, there is a set of variables with parent-reported measures of child's behavior. I concentrate here on three measures that characterize socialization, self-control and communication skills, which I refer as Externalizing Behavior, in the spirit of the Big Five Factor model. While three items seem like too little information, they are in fact sufficient to identify the model (specially given repeated measures for the same invididual over time). While we are concerned that parents then to report child's behavior with bias, there is an easy correction by introducing a random coefficient that varies by children. In the example below I abstract from such matter (and others like deviations from normality) in order to make the presentation as simple as possible.   "
   ]
  },
  {
   "cell_type": "markdown",
   "metadata": {},
   "source": [
    "In this example I use a simulated dataset that generates a sample that represent 5% of the complete administrative dataset for a given cohort, contained in one region of the country, for visualization purposes. The simulated data mimics the joint distribution of all relevant variables used in the web platform (Dashboard). Construction of latent indexes is done with the __semopy__ library."
   ]
  },
  {
   "cell_type": "code",
   "execution_count": 13,
   "metadata": {},
   "outputs": [],
   "source": [
    "mn = pd.read_csv('../data/mn/mn_5p_2017b.csv')"
   ]
  },
  {
   "cell_type": "code",
   "execution_count": 31,
   "metadata": {},
   "outputs": [],
   "source": [
    "#declare model\n",
    "from semopy import Model\n",
    "mod = \"\"\" S0e =~ diff7_0 + diff5_0 + diff8_0\n",
    "          S1e =~ diff7_1 + diff5_1 + diff8_1\n",
    "          S2e =~ diff7_2 + diff5_2 + diff8_2\n",
    "          I1e =~ ip1_1 + ip2_1 + ip3_1 + ip4_1 + ip5_1 + ip6_1 + ip7_1\n",
    "          I2e =~ ip1_2 + ip2_2 + ip3_2 + ip4_2 + ip5_2 + ip6_2 + ip7_2  \n",
    "                   \n",
    "          S2e ~~ 1*S2e\n",
    "          S2e ~~ S1e\n",
    "          S1e ~~ S0e\n",
    "          I2e ~~ 1*I2e\n",
    "          I2e ~~ I1e\n",
    "      \"\"\"\n",
    "model = Model(mod)\n",
    "\n",
    "#load data\n",
    "model.load_dataset(mn)\n",
    "\n",
    "#run\n",
    "from semopy import Optimizer\n",
    "opt = Optimizer(model)\n",
    "ojbective_function_value = opt.optimize()\n"
   ]
  },
  {
   "cell_type": "code",
   "execution_count": 33,
   "metadata": {},
   "outputs": [],
   "source": [
    "from semopy import gather_statistics\n",
    "stats = gather_statistics(opt)"
   ]
  },
  {
   "cell_type": "code",
   "execution_count": 36,
   "metadata": {},
   "outputs": [
    {
     "name": "stdout",
     "output_type": "stream",
     "text": [
      "       lval  op     rval         Value        SE       Z-score       P-value\n",
      "6       I1e  =~    ip2_1  9.914745e-01  0.032252  3.074152e+01  0.000000e+00\n",
      "8       I1e  =~    ip3_1  9.592459e-01  0.027602  3.475255e+01  0.000000e+00\n",
      "10      I1e  =~    ip4_1  1.380334e+00  0.034835  3.962527e+01  0.000000e+00\n",
      "12      I1e  =~    ip5_1  1.143762e+00  0.032708  3.496839e+01  0.000000e+00\n",
      "14      I1e  =~    ip6_1  1.422753e+00  0.035554  4.001648e+01  0.000000e+00\n",
      "16      I1e  =~    ip7_1  1.155546e+00  0.035074  3.294549e+01  0.000000e+00\n",
      "7       I2e  =~    ip2_2  6.753680e-01  0.013368  5.052104e+01  0.000000e+00\n",
      "9       I2e  =~    ip3_2  6.074086e-01  0.010334  5.877968e+01  0.000000e+00\n",
      "11      I2e  =~    ip4_2  7.643535e-01  0.011848  6.451120e+01  0.000000e+00\n",
      "13      I2e  =~    ip5_2  6.346257e-01  0.012778  4.966641e+01  0.000000e+00\n",
      "15      I2e  =~    ip6_2  7.865135e-01  0.011830  6.648516e+01  0.000000e+00\n",
      "17      I2e  =~    ip7_2  6.426250e-01  0.014370  4.471839e+01  0.000000e+00\n",
      "0       S0e  =~  diff5_0  3.023463e-01  0.011196  2.700463e+01  0.000000e+00\n",
      "3       S0e  =~  diff8_0  4.313105e-01  0.013118  3.288049e+01  0.000000e+00\n",
      "1       S1e  =~  diff5_1  3.201609e-01  0.010746  2.979391e+01  0.000000e+00\n",
      "4       S1e  =~  diff8_1  4.337142e-01  0.012231  3.545971e+01  0.000000e+00\n",
      "2       S2e  =~  diff5_2  1.997118e-01  0.005849  3.414741e+01  0.000000e+00\n",
      "5       S2e  =~  diff8_2  2.909443e-01  0.006812  4.270982e+01  0.000000e+00\n",
      "18      I1e  ~~      I1e  2.968342e-01  0.013323  2.228065e+01  0.000000e+00\n",
      "19      I1e  ~~      S0e -4.464206e-02  0.005430 -8.220802e+00  2.220446e-16\n",
      "20      I1e  ~~      S1e -5.475326e-02  0.005486 -9.980788e+00  0.000000e+00\n",
      "21      I1e  ~~      S2e -6.716022e-02  0.007534 -8.914576e+00  0.000000e+00\n",
      "22      I2e  ~~      I1e  3.021429e-01  0.009439  3.201083e+01  0.000000e+00\n",
      "23      I2e  ~~      S0e -1.203860e-01  0.009450 -1.273937e+01  0.000000e+00\n",
      "24      I2e  ~~      S1e -1.109671e-01  0.009455 -1.173671e+01  0.000000e+00\n",
      "25      I2e  ~~      S2e -2.166195e-01  0.012856 -1.685031e+01  0.000000e+00\n",
      "26      S0e  ~~      S0e  3.807796e-01  0.012799  2.975145e+01  0.000000e+00\n",
      "27      S0e  ~~      S2e  3.253625e-01  0.009135  3.561641e+01  0.000000e+00\n",
      "28      S1e  ~~      S0e  2.408008e-01  0.007118  3.383105e+01  0.000000e+00\n",
      "29      S1e  ~~      S1e  3.892795e-01  0.012179  3.196251e+01  0.000000e+00\n",
      "30      S2e  ~~      S1e  3.615091e-01  0.009172  3.941395e+01  0.000000e+00\n",
      "31  diff5_0  ~~  diff5_0  1.733884e-01  0.003226  5.374299e+01  0.000000e+00\n",
      "32  diff5_1  ~~  diff5_1  1.698619e-01  0.003170  5.358202e+01  0.000000e+00\n",
      "33  diff5_2  ~~  diff5_2  1.810872e-01  0.003193  5.670698e+01  0.000000e+00\n",
      "34  diff7_0  ~~  diff7_0  1.706855e-01  0.009533  1.790384e+01  0.000000e+00\n",
      "35  diff7_1  ~~  diff7_1  1.607375e-01  0.008641  1.860128e+01  0.000000e+00\n",
      "36  diff7_2  ~~  diff7_2  9.482796e-17  0.013054  7.264208e-15  1.000000e+00\n",
      "37  diff8_0  ~~  diff8_0  1.794782e-01  0.003639  4.932064e+01  0.000000e+00\n",
      "38  diff8_1  ~~  diff8_1  1.773888e-01  0.003542  5.008053e+01  0.000000e+00\n",
      "39  diff8_2  ~~  diff8_2  2.112915e-01  0.003839  5.504317e+01  0.000000e+00\n",
      "40    ip1_1  ~~    ip1_1  6.744414e-01  0.012974  5.198243e+01  0.000000e+00\n",
      "41    ip1_2  ~~    ip1_2  5.735769e-01  0.013483  4.254220e+01  0.000000e+00\n",
      "42    ip2_1  ~~    ip2_1  9.633021e-01  0.017936  5.370770e+01  0.000000e+00\n",
      "43    ip2_2  ~~    ip2_2  8.754605e-01  0.016621  5.267200e+01  0.000000e+00\n",
      "44    ip3_1  ~~    ip3_1  5.573629e-01  0.010854  5.135186e+01  0.000000e+00\n",
      "45    ip3_2  ~~    ip3_2  4.912927e-01  0.009724  5.052557e+01  0.000000e+00\n",
      "46    ip4_1  ~~    ip4_1  5.460105e-01  0.012295  4.440983e+01  0.000000e+00\n",
      "47    ip4_2  ~~    ip4_2  6.118145e-01  0.012586  4.861109e+01  0.000000e+00\n",
      "48    ip5_1  ~~    ip5_1  7.706097e-01  0.015058  5.117652e+01  0.000000e+00\n",
      "49    ip5_2  ~~    ip5_2  8.043829e-01  0.015217  5.286087e+01  0.000000e+00\n",
      "50    ip6_1  ~~    ip6_1  5.351365e-01  0.012354  4.331777e+01  0.000000e+00\n",
      "51    ip6_2  ~~    ip6_2  5.970980e-01  0.012479  4.784821e+01  0.000000e+00\n",
      "52    ip7_1  ~~    ip7_1  1.011916e+00  0.019241  5.259267e+01  0.000000e+00\n",
      "53    ip7_2  ~~    ip7_2  1.048391e+00  0.019468  5.385165e+01  0.000000e+00\n"
     ]
    }
   ],
   "source": [
    "print(inspect(opt, mode='list'))"
   ]
  },
  {
   "cell_type": "markdown",
   "metadata": {},
   "source": [
    "With the estimated coeficients stored in matrix form is straightforward to compute (or simulate) invididual scores for each latent factor, based on any of the alternative methods. The most common method is just the linear projection that arises from inverting the matrices in the measurement system to obtain a closed expression for $\\theta$. The estimated factor constructed here are then aggregated at the school level and used to populate the __Dashboard__ "
   ]
  },
  {
   "cell_type": "code",
   "execution_count": null,
   "metadata": {},
   "outputs": [],
   "source": []
  }
 ],
 "metadata": {
  "kernelspec": {
   "display_name": "Python 3",
   "language": "python",
   "name": "python3"
  },
  "language_info": {
   "codemirror_mode": {
    "name": "ipython",
    "version": 3
   },
   "file_extension": ".py",
   "mimetype": "text/x-python",
   "name": "python",
   "nbconvert_exporter": "python",
   "pygments_lexer": "ipython3",
   "version": "3.7.3"
  }
 },
 "nbformat": 4,
 "nbformat_minor": 2
}
