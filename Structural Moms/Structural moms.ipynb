{
 "cells": [
  {
   "cell_type": "code",
   "execution_count": null,
   "metadata": {},
   "outputs": [],
   "source": [
    "# Housekeeping\n",
    "\n",
    "# To get ZOTERO follow these steps:\n",
    "# install cite2c using powershell (pip install cite2c or python -m pip install cite2c)\n",
    "# then run python -m cite2c.install\n",
    "# restart Jupyter notebook"
   ]
  },
  {
   "cell_type": "code",
   "execution_count": 1,
   "metadata": {},
   "outputs": [],
   "source": [
    "import os # to create an interface with our operating system\n",
    "import sys # information on how our code is interacting with the host system\n",
    "\n",
    "#import pymongo as pm\n",
    "import pprint\n",
    "import requests\n",
    "import datetime\n",
    "import json\n",
    "import random\n",
    "import numpy as np\n",
    "import seaborn as sns\n",
    "import pandas as pd\n",
    "import matplotlib.pyplot as plt\n",
    "import scipy.stats as stats\n",
    "import math\n",
    "import statsmodels.stats.power as power\n",
    "#from tableone import TableOne, load_dataset\n",
    "\n",
    "%matplotlib inline"
   ]
  },
  {
   "cell_type": "markdown",
   "metadata": {},
   "source": [
    "Tareas pendientes:  \n",
    "- terminar modelo (Marce)  \n",
    "- estimation strategy & estimation strategy (Marce)   \n",
    "- acceso a data (Carlos)  "
   ]
  },
  {
   "cell_type": "markdown",
   "metadata": {},
   "source": [
    "## Gordito y feliz: a simple model of parental time and resource allocation for child development during Preschool\n",
    "\n",
    "Jere Berhman  \n",
    "Juan Carlos Caro  \n",
    "Marcela Parada-Contzen \n",
    "\n",
    "Preliminary, comments welcome.\n",
    "\n",
    "###### this version: August 6, 2020"
   ]
  },
  {
   "cell_type": "markdown",
   "metadata": {},
   "source": [
    "#### Abstract\n",
    "\n",
    "\n",
    "\n",
    "Keywords: Parental Time, Socioemotional Development, Nutritional Status, Child Development, Human Capital, Preschool  \n",
    "JEL Codes: I12, J13, J24  "
   ]
  },
  {
   "cell_type": "markdown",
   "metadata": {},
   "source": [
    "### Background\n",
    "\n",
    "#### Motivation\n",
    "\n",
    "The COVID-19 pandemic placed the spotlight on the fragility of multiple institutions that support and contribute to childhood development and human capital accumuation. As such, the widespread lockdown due to the coronavirus is expected to increase in mental health problems, domestic violence, and child abuse, with a broad, substantive, and long-lasting impacts on psychosocial, physical and nutritional health<cite data-cite=\"7126731/HT7UMQNH\"></cite> <cite data-cite=\"7126731/PNIZUEGW\"></cite>, together with impacting  <cite data-cite=\"7126731/4MX2ZYJ4\"></cite><cite data-cite=\"7126731/SM6SXUX5\"></cite>. Effects might be particularly important for children who have been retracted from regular school activities and confined to their homes <cite data-cite=\"7126731/UXGT9P9B\"></cite><cite data-cite=\"7126731/L3LQ5W4F\"></cite>. \n",
    "\n",
    "In this context, the role of caregivers (primary or secondary, family and nonfamily) is key to prevent emotional and physical problems and to promote healthy stimuli in children <cite data-cite=\"undefined\"></cite><cite data-cite=\"7126731/QRP825IZ\"></cite><cite data-cite=\"7126731/HT7UMQNH\"></cite>. In order to develop effective programs and policies, we need to understand the underpinnings of intrahousehold dynamics. In particular, for a given child, two decisions are key: 1) how much material and time resources are allocated, and 2) how does a household decides the team of caregivers that will provide care for the child? We argue that, in resource scarce environments, primary caregivers often face choices that can lead to low time and material investments. However, depending on the caregiver's social support network and own beliefs on parenting styles, there can be substantial differences on the resources allocated to child development, as well as the composition of the caregiving team. \n",
    "\n",
    "#### Research question\n",
    "\n",
    "1) To jointly estimate the decisions of intrahousehold caregiver arrangements and parental investments.\n",
    "\n",
    "2) To explore the impacts of the quantity and quality of resources on children's physical and emotional development.  \n",
    "\n",
    "#### Data and methods\n",
    "\n",
    "This study contributes new evidence connecting parental behavior, socioemotional development, and nutritional status in a context of high overweight status prevalence, using rich administrative data from the Chilean National Board of School Aid and Scholarships (JUNAEB, Spanish acronym). The analysis follows a cohort of children that started Pre-Kindergarten in 2015  with repeated measurements at Kindergarten and First grade for nearly 200,000 students across 10,000 schools every year <cite data-cite=\"undefined\"></cite>. \n",
    "\n",
    "[TBC]\n",
    "\n",
    "#### Results \n",
    "\n",
    "[TBC]\n",
    "\n",
    "\n",
    "#### Contribution and related literature\n",
    "\n",
    "To date, there are only a few studies that model the intrahousehold investment process, often due to lack of data. [Del Boca] [Attanasio] []\n",
    "This study extends the literature, at least, in two meaningful ways. First,  \n",
    "\n",
    "\n"
   ]
  },
  {
   "cell_type": "markdown",
   "metadata": {},
   "source": [
    "### Empirical model\n",
    "\n",
    "#### Timing and notation\n",
    "\n",
    "Individual $i$ begins period $t$ with an information set $\\Omega_{it}$. The individual observes a wage offer $w^*_{it}$ (unobserved for the econometrician) drawn from the wage distribution. After this, she jointly decides her labor supply decision ($l_{it}$: work full-time, work part-time, or not to work), her partnership status ($m_{it}$: married, cohabitating, or single), whether to change the number of children living in the household or not ($n_{it}$), children stimulation time ($s_{it}$), caregiver decision for the child ($c_{it}$: mother, grandparent, another family, other non-family), and whether to change the child's school or not  ($e_{it}$, for *e*ducation). We refer to these decisions as endogenous choice variables. Endogenous choice variables are jointly estimated. \n",
    "\n",
    "Because decisions are jointly made, they are function of the same observed characteristics, which are summarized in the information set ($\\Omega_{it}$). The information set contains lagged decisions and stock variables up to period $t − 1$. Lagged decisions include: previous children stimulation for all children in the household ($s_{i,t-1}$) and previous caregiver ($c_{i,t-1})$). Stock variables include: labor work experience ($L_{i,t-1}$) up to period $t$; partnership history vector ($M_{i,t-1}$) that contains the woman's relationship status last period ($m_{i,t-1}$), the duration of the relationship up to period $t$ and information regarding the father of the child; number of children ($N_{i,t-1}$) in the household by age groups up to period $t$; education history for the child ($E_{i,t-1}$), the child's physical and mental health status up to period $t$ ($H^\\text{physical}_{i,t-1}$ and  $H^\\text{mental}_{i,t-1}$, respectively); and parental self-efficacy beliefs ($PSE_{i,t-1}$) and pareting style ($PSI_{i,t-1}$) when entering period $t$. Lagged decisions and stock variables are endogenous control variables, also referred to as *predetermined* control variables. Note that there is an important distinction between endogenous choice variables and predeteromined control variables. Endogenous choices are behaviors chosen at period $t$, while predetermined control variables are lagged decisions and stock variables that are not decisions itself but are affected by lagged choices (e.g., work experience is affected by previous labor supply decisions). We denote the vector of predetermined control variables by $\\tilde{\\Omega}_{it}$.\n",
    "\n",
    "The information set also includes a vector $X_{it}$ of exogenous characteristics (such as age or gender) and a vector $Z_{it}$ of exogenous supply-side market-level characteristics for the labor market ($Z^L_{it}$), marriage market ($Z^M_{it}$), children market ($Z^N_{it}$), educational market ($Z^P_{it}$), health market ($Z^H_{it}$), so that we can denote $Z_{it}=\\left\\{Z^L_{it}, Z^M_{it}, Z^N_{it}, Z^P_{it}, Z^H_{it}\\right\\}$.\n",
    "\n",
    "After decisions are made, the econometrician observes the wage draw $w_{it}$ if the individual decides to work. The individual observes the realization of two production functions: the child physical health status ($H^\\text{physical}_{it}$) and mental health status ($H^\\text{mental}_{it}$). Both health measures are functions of choices in period $t$, endogenous control variables, exogenous characteristics, and market-level characteristics specific for each function.  \n",
    "\n",
    "Once the child's physical and mental health outcomes are realized, the individual updates her parental self-efficacy beliefs ($PSE_{it}$: it is easy, difficult or neither easy nor difficult to raise my child) and parenting style ($PSI_{it}$) measured by a continuous index. After these realizations, the individual updates her information set and moves to period $t+1$  with information set $\\Omega_{i,t+1}$.\n",
    "\n",
    "#### Estimable model\n",
    "\n",
    "##### Wages\n",
    "\n",
    "The wage equation follows an extended Mincer specification and includes exogenous characteristics ($X_{it}$), endogenous predetermined control variables ($\\tilde{\\Omega}_{it}$) such as work experience ($E_{it}$) and job characteristics. As in Gilleskie et al (2017), we assume that work productivity also depends on family characteristics, such as the number of children ($N_{it}$) and partnership status ($m_{it}$). This modeling assumption is made to proxy for productivity that is unobserved by the econometrician and to capture the fact that productivity across individuals may vary even if they have the same human capital. There are also exogenous demand-side factors specific to the labor market ($Z^E_{it}$). We also include permanent ($\\mu^1_{i}$) and time-variant ($\\nu^1_{it}$) unobserved wage determinants.\n",
    "\n",
    "$\\ln (w_{it})=w(\\tilde{\\Omega}_{it},Z^E_{it},X_{it},\\mu^1_{i},\\nu^1_{it})$   \n",
    "\n",
    "##### Endogenous choice variables\n",
    "\n",
    "Recall we only observe wages for individuals who are working. If there are unobserved characteristics that simultaneously affect selection into employment, partnership status, variation in the number of children in the household, children stimulation time, total number of caregivers for each child, children schooling choices and wages, there is a risk of potential estimation bias stemming from seletion (e.g., mothers that select into employment need to look for a caregiver during school time). Moreover, if unobserved characteristics affect partnetship status, variation in number of children, children stimulation time, total number of caregivers for each child and children schooling choice, there is also a risk of endogeneity bias (e.g., mothers that enrolled her child into a better quality school may chose to reduce child stimulation time than if she had enrolled her child into a lower quality school).  \n",
    "\n",
    "Therefore, all decisions that affect children's physical and mental health outcomes are jointly estimated and together with wages. Because decisions are jointly made, they are all function of variables in the information set $\\Omega_{it}= \\{ \\tilde{\\Omega}_{it}, X_{it}, Z_{it} \\}$, which includes equation-specific predetermined variables ($\\tilde{\\Omega}_{it}$),  exogenous characteristics ($X_{it}$) and  exogenous market-level characteristics ($Z_{it}$). They are also specified as a function of equation-specific permanent (represented by $\\mu$s) and time-varying (represented by $\\nu$s) unobserved characteristics that are correlated across equations (from now on, correlated unobserved heterogeneity). The distribution of permanent and time-variant unobserved characteristics are estimated together with the reduced-form parameters of the model.\n",
    "\n",
    "The set of correlated equations that represent endogenous choice variables goes as folllows:\n",
    "\n",
    "$\\ln \\left[ \\frac{Pr(l_{it} = j)}{Pr(l_{it} = 0)} \\right] = l^k(\\tilde{\\Omega}_{it},X_{it},Z_{it},\\mu^2_{i},\\nu^2_{it}); j = \\{1,2\\}$      \n",
    "\n",
    "$\\ln \\left[ \\frac{Pr(m_{it} = j)}{Pr(m_{it} = 0)} \\right]=m^k(\\tilde{\\Omega}_{it},X_{it},Z_{it},\\mu^3_{i},\\nu^3_{it}); j = \\{1,2\\}$   \n",
    "\n",
    "$\\ln \\left[ \\frac{Pr(n_{it})= j }{Pr(n_{it})= 0} \\right] =n^k(\\tilde{\\Omega}_{it},X_{it},Z_{it},\\mu^4_{i},\\nu^4_{it}); j = \\{1,2\\}$   \n",
    "\n",
    "$s_{it}=s(\\tilde{\\Omega}_{it},X_{it},Z_{it},\\mu^5_{i},\\nu^5_{it})$   \n",
    "\n",
    "$\\ln \\left[ \\frac{Pr(c_{it}=j)}{Pr(c_{it}=0)} \\right] = c^k(\\tilde{\\Omega}_{it},X_{it},Z_{it},\\mu^6_{i},\\nu^6_{it}); j = \\{1,2,3 \\}$   \n",
    "\n",
    "$\\ln \\left[ \\frac{Pr(e_{it} = 1)}{Pr(e_{it}=0)} \\right] =e\\tilde{\\Omega}_{it},X_{it},Z_{it},\\mu^7_{i},\\nu^7_{it})$   \n",
    "\n",
    "Note that in addition to correlated unobserved heterogeneity, there is an idiosyncratic shock that is independent and identically distributed (*i.i.d.*). It is assumed to be a type I extreme value or normally distributed error ($\\epsilon_{it}$) depending on whether the outcomes are discrete or continuous,  giving the functional form to each choice equation. \n",
    " \n",
    "Per-period alternatives for discrete outcomes are constructed based on the survey questions and are the following: $l_{it}=\\{0,1,2\\}$, indicating working full-time, working part-time and not working; $m_{it}=\\{0,1,2\\}$, indicating married, cohabitating or single; $n_{it}=\\{0,1,2\\}$, indicating no changes, increases and decreases in the number of children in the household; $c_{it}=\\{0,1,2,3\\}$, indicating mother, grandparent, other family, other non-family; $e_{it}=\\{0,1\\}$ indicating no change or change of school.  \n",
    "\n",
    "##### Health outcomes\n",
    "\n",
    "After decisions are chosen, physical ($H^\\text{physical}_{it}$) and mental ($H^\\text{mental}_{it}$) health outcomes are realized. Both outcomes are continuous and are self-reported by primary caregivers. Production functions are specified as value-added specification, and is a linear function of the child's previous physical and mental health coming into the period ($H^\\text{physical}_{i,t-1}$ and $H^\\text{mental}_{i,t-1}$, respectively). Production functions are also specified as a function of choice variables in period $t$, exogenous characteristis ($X_{it}$) and supply-side factor of the educational market ($Z^P_{it}$) and the health market ($Z^H_{it}$).  \n",
    "\n",
    "Specifically, physical and mental health production functions are specified as follows: \n",
    "\n",
    "$H^\\text{physical}_{it} = h^\\text{physical}(H^\\text{physical}_{i,t-1}, H^\\text{mental}_{i,t-1}, l_{it}, m_{it}, n_{it}, s_{it}, c_{it}, e_{it},   X_{it}, Z^P_{it}, Z^H_{it},\\mu^8_{i},\\nu^8_{it})$   \n",
    "\n",
    "$H^\\text{mental}_{it}= h^\\text{mental}(H^\\text{physical}_{i,t-1}, H^\\text{mental}_{i,t-1}, l_{it}, m_{it}, n_{it}, s_{it}, c_{it}, e_{it}, X_{it}, Z^P_{it}, Z^H_{it}, \\mu^9_{i}, \\nu^9_{it})$   \n",
    "\n",
    "These equations are jointly estimated with the rest of the equations of the model, and they correlated across each other through a permanent and time-varying unobserved heterogeneity components. \n",
    "\n",
    "##### Parental self-efficacy and parenting style\n",
    "\n",
    "The individual's beliefs regarding  parental self-efficacy ($PSE_{it}$) and parenting style ($PSI_{it}$) are updated after the realization of physical and mental health is observed. These personality traits are specified to be a function of previous beliefs, current period health outcomes, exogenous individual characteristics and educational market supply-side factores ($Z^P_{it}$) as follows:\n",
    "\n",
    "$\\ln \\left[\\frac{Pr(PSE_{it}=j)}{Pr(PSE_{it}=0)} \\right]=p^{se}(PSE_{i,t-1}, PSI_{i,t-1}, H^\\text{physical}_{it}, H^\\text{mental}_{it}, X_{it}, \\mu^{10}_{i}, \\nu^{10}_{it}); j=\\{1,2\\}$   \n",
    "\n",
    "$PSI_{it}=p^{si}(PSE_{i,t-1}, PSI_{i,t-1}, H^\\text{physical}_{it}, H^\\text{mental}_{it}, X_{it}, Z^P_{it}, \\mu^{11}_{i}, \\nu^{11}_{it})$\n",
    "\n",
    "Both equations are correlated with the rest of the equations of the model through permanent and time-varying heterogeneity. The alternatives for $PSE_{it}=\\{0,1,2\\}$, indicating easy, difficult or neither easy nor difficult to raise the child. \n",
    "\n",
    "\n",
    "##### Attrition\n",
    "\n",
    "To account for nonrandom attrition, we include an equation for the probability of attrition at the end of period $t$. The attrition equation is jointly estimated with the rest of the equations of the system and correlated through permanend and time-varying unobserved heterogeneity.  The probability of attrition at the end of period $t$ depends on the updated information set which includes both observed and unobserved characteristics, as follows:\n",
    "\n",
    "$ \\ln \\left[ \\frac{Pr(a_{it}=1)}{Pr(a_{it}=0)} \\right] = a(\\tilde{\\Omega}_{it}, X_{it}, \\mu^{12}_{i}, \\nu^{12}_{it})$   \n",
    "\n",
    "where $a_{it}=1$ if the individual attrites the sample and functional form of the specifications is given by an idiosyncratic shock ($\\epsilon^{12}_{it}$) that is independent and identically distributed. It is assumed to be type I extreme value distributed.\n",
    "\n",
    "### Estimation\n",
    "\n",
    "#### Error structure\n",
    "\n",
    "Unobserved characteristics may be correlated across the $k = \\{1,2,...,12\\}$ equations of the model. The total error ($\\varepsilon^k_{it}$) in each equation $k$  is decomposed in three parts as follows:\n",
    "\n",
    "$\\varepsilon^k_{it} = \\epsilon^k_{it}+ \\mu^k_{i} + \\nu^k_{it}$   \n",
    "\n",
    "where, as mentioned before,  $\\epsilon^k_{it}$ represent the $k$-th equation *i.i.d.* idiosyncratic shock, assumed to be a type I extreme value (discrete outcomes) or normally distributed (continous outcomes). $\\mu^k_{i}$ and  $\\nu^k_{it}$ represent permanent and time-variant unobserved individual characteristics. \n",
    "\n",
    "The error structure decomposition allows for nonlinear correlated unobserved individual-level heterogeneity, considering permanent and transitory processes. The distribution for the permanent and time-varying unobserved heterogeneity is estimated with the rest of the model's parameters using a semi-parametric discrete factor random effect estimation method (DFRE). The method is a generalization of Heckman and Singer (1984), developed by Mroz and Guilkey (1992) and Mroz (1999), which allows no assumption on functional or distributional form for the correlated unobserved heterogeneity. Its cumulative distribution is approximated by a step function that estimates mass points weights and probabilities for those mass points (Guilkey and Lance 2014). Evidence shows that the DFRE performs better than other methods when the error distribution is not jointly normal, and there is a high correlation across equations; which is expected when modeling individual decisionmaking processes (see Guilkey and Lance (2014) for further details). \n",
    "\n",
    "Because de DFRE allows correlation across equations through unobserved terms, the estimation of the set of correlated equations allows controlling for several sources of estimation bias such as selection, endogeneity, and measurement error. For other related applications estimated with the DFRE, see Gilleskie et al 2017 (health accumulation and obesity), Morales et al 2016 (obesity and health-related decisions), Fu 2017 (children academic and non-academic performance). \n",
    "\n",
    "#### Initial condition equations\n",
    "\n",
    "In the first wave of the dataset (2015), endogenous variables are non-zero. Because we do not observe the complete history of decisions before 2015, the model's dynamic specification cannot be used to explain this initial observed variation. Thus, we specify static reduced-form equations that depend on exogenous individual characteristics that do not enter subsequent equations and market-level exogenous characteristics. These initial condition equations are correlated with the other equation through a permanent unobserved component, with an error structure of the following form:\n",
    "\n",
    "$\\varepsilon^{kI}_{it} = \\epsilon^{kI}_{it}+ \\mu^{kI}_{i}$   \n",
    "\n",
    "where ${kI}$ represent the $kI$ initial condition equations. Thus, the $kI$ are jointly estimated with the $k = \\{1,2,...,12\\}$ other equations of the model.\n",
    "\n",
    "Initial conditions consider all endogenous variables entering the first period. These include initial:  labor market status (polychotomus), work experience (continuous), partnership status (polychotomus), number of children (continuous), physical and mental child health status (continuous), parental self-efficacy beliefs (polychotomus) and parenting style (continuous). \n",
    "\n",
    "#### Estimated likelihood function\n",
    "\n",
    "The likelihood function conditional on correlated unobserved heterogeneity is (subscript $i$ is dropped for simplicity):\n",
    "\n",
    "$L^C_{t}(\\Theta,\\mu,\\nu_t)= \\prod_{1}^N \\left\\{  f_w(\\mu,\\nu_t) \\cdot  \\prod_{j=1}^J \\left[ Pr \\left( I(d_t^j = d^j | \\mu, \\nu_t) \\right) \\cdot f_j ( \\varepsilon^j_t |\\mu,\\nu_t) \\right] ^ {I(d_t^j = d^j)} \\right\\} $    \n",
    "\n",
    "where $\\Theta$ represents the vector of all parameters to be estimated, $f(\\cdot)$ represents the density function of the error term of each equation with probabilty weight $w$ fo a specific mass point, $Pr(\\cdot)$ is the cumulative distribution function for each choice, $d^j_t$ is a particular choice $j=\\{L,M,N,S,C,E\\}$ and $I(d_t^j = d^j)$ is an indicator function for that choice.\n",
    "\n",
    "The unconditional likelihood function for the joint estimation of the set of equations is:\n",
    "\n",
    "$L_{t}(\\Theta)= \\sum_{q=1}^Q PW_{\\mu q} \\sum_{r=1}^R PW_{\\nu r} \\prod_t^T L^C_{t}(\\Theta,\\mu,\\nu_t) $   \n",
    "\n",
    "where $PW_{\\mu q}$ is the probability of observing $q$ mass points for the permanent component $\\mu$, and $PW_{\\nu r}$ is the probability of observing $r$ mass points for the time-varying component $\\nu_t$. These approximate the true distributions of $\\mu$ and $\\nu_t$.\n",
    "\n",
    "#### Identification\n",
    "\n",
    "The estimated set of equations consists of the 12 equations of the model plus the 8 inicial condition equations. This set of correlated equations is completely identified and therefore, we estimate causal effects. Identification comes from several sources.\n",
    "\n",
    "First, identification comes from the dynamic nature of the model and timing assumptions for the decisionmaking processes modeled. The timing assumptions follow the standard requirement for dynamic-panel estimation with correlation across equations (Arellano and Bond 1991; Bhargava 1991). As instruments, we use i) predetermined control variables and ii) supply-side market-level exogenous characteristics. \n",
    "\n",
    "Second, the functional form assumption for the distribution of the idiosyncratic error term in each equation ($\\epsilon_{it}$) serves to identify the system as it gives the functional form to equations.\n",
    "\n",
    "Third, identification comes from the number of factors allowed for the step\n",
    "approximation for the correlated unobserved heterogeneity. In particular, two factors are allowed: one permanent and one time-varying. Ideally, one would\n",
    "like to identify a distribution of permanent and time-varying unobserved heterogeneity affecting each behavioral equation and each outcome of the model, but this cannot be identified. Instead, we estimate a common distribution across equations for the permanent unobserved heterogeneity and common distribution across equations for the time-varying unobserved heterogeneity. \n",
    "\n",
    "### References\n",
    "\n",
    "Fu, N. (2017). When the Honeymoon is Over: The Effects of Family Structure. Working paper. \n",
    "\n",
    "Gilleskie, D. B., Han, E., & Norton, E. C. (2017). Disentangling the contemporaneous and dynamic effects of human and health capital on wages over the life cycle. Review of Economic Dynamics, 25, 350–383\n",
    "\n",
    "Guilkey, D. K., & Lance, P. M. (2014). Program impact estimation with binary outcome variables: Monte carlo results for alternative estimators and empirical examples. In Festschrift in Honor of Peter Schmidt (pp. 5–46). Springer.\n",
    "\n",
    "Heckman, J., & Singer, B. (1984). A method for minimizing the impact of distributional assumptions in econometric models for duration data. Econometrica: Journal of the Econometric Society, 52, 271–320.\n",
    "\n",
    "Morales, L. F., Gordon-Larsen, P., & Guilkey, D. (2016). Obesity and health-related decisions: an empirical model of the determinants of weight status across the transition from adolescence to young adulthood. Economics & Human Biology, 23, 46–62.\n",
    "\n",
    "Mroz, T. A. (1999). Discrete factor approximations in simultaneous equation models: estimating the impact of a dummy endogenous variable on a continuous outcome. Journal of Econometrics, 92, 233–274.\n",
    "\n",
    "Mroz, T. A., & Guilkey, D. K. (1992). Discrete factor approximation for use in simultaneous equation models with both continuous and discrete endogenous variables. Working paper. Chapel Hill, N.C., U.S.: University of North Carolina Carolina Population Center.\n",
    "\n",
    "### Theoretical framework\n",
    "\n",
    "Mother-centered decision model focused on the index child in three periods, Pre-Kinder and Kindergarten, and a terminal period at 1st Grade where decisions are not made.\\footnote{We could draw a sub-sample of parents with only one child to compare versus households where we are not focusing on the index child. We cannot identify who the primary caregiver is, but most of primary caregivers are mothers.} Choice variables are: labor supply ($L$), stimulation time ($I$), total number of caregivers for each kin ($C_j$ are dummy variables where $j$ indexes the kin), and school ($P_{k}$, where $k$ indexes the school).[<sup>1</sup>](#fn1)\n",
    "\n",
    "Timing: mothers observe $S_t, H_t$ and their choices made in the previous period ($P_{kt}$,$C_{jt}$,$L_t$). Then, they make choices for the next period $I_t, L_{t+1}, C_{j,t+1}, P_{k,t+1}$ in order to maximize the expected value function.    \n",
    "\n",
    "- Utility log-linear: $U_t=ln(c_t)+\\alpha_l ln(l_t)+ \\alpha_S ln(S_t)+ \\alpha_H ln(H_t)+ \\alpha_I ln(I_t+1)+v_t$  \n",
    "  \n",
    "where: $c$ is consumption, $l$ is leisure, $S$ is child socioemotional development, $H$ is child BMI z-score, $I$ is stimulation time and $v$ corresponds to household unobserved heterogeneity (effort cost on stimulation time, utility from other siblings, household composition, beliefs, etc).[<sup>2</sup>](#fn2)  \n",
    "\n",
    "- child time: $I+\\tau_p+\\tau_c=T_C$  \n",
    "  \n",
    "where $\\tau_p$ is time at school (30h/week including transportation), $T_C$ is total time excluding sleep (90h/week out of 144), and $\\tau_c$ is the time in \"home care\" (meals, homework, hygiene, plus child leisure). Total stimulation time ($I$) can go up to 35h/week (7 different activities for one hour per session, up to 5 times a week).  \n",
    "\n",
    "- primary caregiver (i.e. mother) time: $I+L+l=T_M$  \n",
    "  \n",
    "where $L$ is labor supply and $T_M$ is total mother available time (112 h/week). Labor supply and income data could be imputed from CASEN using professional degree, occupational area, commune, mother's age, schooling and gender.  \n",
    "\n",
    "- production functions: $H_{t}=A_{Ht}(H_{t-1}^{\\lambda_H} S_{t-1}^{\\lambda_S} (I_t q_I)^{\\lambda_I})$, \n",
    "$S_{t}=A_{St}(H_{t-1}^{\\lambda_H} S_{t-1}^{\\lambda_S} (I_t q_I)^{\\lambda_I})$  \n",
    "  \n",
    "where $q_I$ is the quality of stimulation time and the TFP is defined as $A_t=exp(\\delta_{0t}+\\delta_{Xt}X_t+e_t)$. $X$ includes child information at birth, household characteristics, school characteristics, participation in public programs and material investments. $X$ also includes two terms, $\\tau_p q_p$ and $\\tau_c q_c$, where  $q_c$ and $q_p$ are the quality of home care time and school time respectively.  \n",
    "\n",
    "- quality of child time: for each type of child time $\\{I, \\tau_p, \\tau_c \\}$, there is an equation to determine the quality as a function of observable characteristics (caregivers and school characteristics). Therefore, the contribution of each time on the production of skills (included the TFP) is measured in efficiency units, i.e., multiplied by quality indexes of common scale: $q_I, q_p, q_c$. Quality is not observed but considered a latent variable from a set of proxy (predetermined) variables: $q=W'\\pi+\\eta$, where $\\eta$ is a random shock.  \n",
    "\n",
    "Quality of stimulation time depends on primary caregiver \"fixed\" characteristics and there is no \"effort\". However, mothers have expectations on their self-efficacy and parental style (authoritarian) which can affect their productivity. Similarly social support, parental figures, cohabitation across generations, and other caregivers' background could also impact quality (these could vary over time). Therefore: $q_{st}=W_{st}`\\pi_s+C_t'\\omega_s+\\eta_s$  \n",
    "\n",
    "Similarly, home care quality depends on the choice of secondary caregivers in the previous period ($C_{jt}$), and the their observed characteristics. quality of schools ($q_p$) depends on relevant school information such as average test scores, classroom size, school vulnerability and other information of the school environment.  \n",
    "\n",
    "- budget constraint as: $w_t L_t = c_t + T_t - TR_t$  \n",
    "  \n",
    "where $T$ is the school tuition cost and $w$ is the hourly wage. $TR_t$ is the value of school investments (e.g. school meals programs and other goods and services given at the preschool level by JUNAEB). Consumption is not observed in the data, also there is little information on material investments, or assets (except for dwelling characteristics).  \n",
    "\n",
    "Household maximizes the present value function $V(\\Omega_t,v_t)$, where $\\Omega$ denotes the state space. The solution leads to demand functions $\\{ I_t,  L_t, C_{jt}, P_{kt} \\}$. Assuming error term is type I extreme-value distributed, there is a closed-form solution to the problem, in the exponential family. Furthermore, we can estimate the linear approximation to the solution as $V(\\Omega_t)=\\Omega_t`\\lambda$. Given the approximation, we can construct the joint likelihood function of all the relevant equations under joint normality.  \n",
    "\n",
    "Estimation proceeds as follows: First, we impute the labor market information. Secondly, we construct local school markets and observed secondary caregiver choices. Finally, we jointly estimate all the simultaneous equations following the approach proposed by Mroz and Guilkey (1992), allowing for random effects that are approximated using the discrete factor method.   \n",
    "\n",
    "Potential issues:  \n",
    "\n",
    "- Attrition: I propose to use the method of Wooldridge (2002) and estimate an attrition equation (similar to what I did in my dissertation). The DFRE method has a mechanisms to account for nonrandom attrition. In particular, we include an equation that models the probability of attrition the sample at the end of period $t$. The attrition equation is jointly estimated with the rest of the equations of the system.  The probability of attrition at the end of period $t$ depends on the updated information set which includes both observed and unobserved characteristics. \n",
    "\n",
    "- Parental beliefs: This is a critical point. Several papers show how poor households tend to underestimate the impact of stimulation time on ECD productivity. In principle, the only variables observed by the econometrician are parents' own perception of self-efficacy and parenting styles.  I worry that there will still be endogeneity between the error terms in the stimulation time equation and the production function (thus, we should model this as an outcome). \n",
    "\n",
    "- Material investments: This is very scarce in the data, except for school choice. Moreover, there is important information on children that use special devices for learning, given physical needs (e.g. hearing devices) but the proportion of students that have such needs are very small. I am concerned about the effect that ignoring that could have on the budget constraint."
   ]
  },
  {
   "cell_type": "markdown",
   "metadata": {},
   "source": [
    "Footnotes\n",
    "\n",
    "<span id=\"fn1\"> Less than 5 percent of households move between years.</span>\n",
    "<span id=\"fn2\"> Utility in the end period does not depend on stimulation time as it is not observed.</span>"
   ]
  },
  {
   "cell_type": "markdown",
   "metadata": {},
   "source": [
    "### Data and estimation strategy\n",
    "\n",
    "#### The JUNAEB data\n",
    "\n",
    "\n",
    "The main dataset follows a cohort of all Chilean children who attended Pre-K in 2015 until first grade of primary school, excluding those who attend private schools (less than ten percent of enrollment). On the one hand, teachers measure and collect information on children’s height and weight, while parents provide comprehensive household background information regarding family composition, children's health, and parenting practices. Next, schools consolidate and submit the information directly to JUNAEB each year during the school cycle. Therefore, this institution collects administrative, individual data each year directly through schools that recieve public funding. The analytical sample includes only the children measured every grade, roughly 60\\% of all students. Incomplete longitudinal links are due to the following reasons, in order of importance: absences during the day of measurement in one or more grades, repeating first grade, skipping one year between Kindergarten and first grade, and children not attending Kindergarten. We exclude students that report chronic illness or disabilities and those with implausible weight and height measurements as they introduce noise to the estimates.[<sup>3</sup>](#fn3) The final estimation sample is restricted to students attending urban schools with class sizes larger than ten students [<sup>4</sup>](#fn4), to recognize the differences in local food systems and school characteristics (84\\% of longitudinal dataset).\n",
    "\n"
   ]
  },
  {
   "cell_type": "markdown",
   "metadata": {},
   "source": [
    "Footnotes  \n",
    "\n",
    "<span id=\"fn1\">1. Less than 5 percent of households move between years.</span>  \n",
    "<span id=\"fn2\">2. Utility in the end period does not depend on stimulation time as it is not observed.</span>  \n",
    "<span id=\"fn3\">3. Among the students that are linked longitudinally, We also exclude cases where there are implausible changes in anthropometric measurements (e.g., height is lower in earlier data, relative to previous grades). The total number of excluded observations represents less than 2\\% of the raw data.</span>  \n",
    "<span id=\"fn4\">4. Average class size in first grade is 37 students, and 39 in urban areas.</span>  \n"
   ]
  },
  {
   "cell_type": "markdown",
   "metadata": {},
   "source": [
    "### Results\n"
   ]
  },
  {
   "cell_type": "code",
   "execution_count": 7,
   "metadata": {
    "scrolled": true
   },
   "outputs": [],
   "source": [
    "# baseline data\n",
    "datacned = pd.read_csv('../data/cned.csv')\n",
    "\n",
    "# preview dataframe\n",
    "datacned.head()\n",
    "\n",
    "# drops na cells\n",
    "datacned.dropna(inplace=True)\n",
    "\n",
    "# change column name\n",
    "datacned.rename(columns={\"puntaje\": \"score\"}, inplace=True)\n",
    "\n",
    "# calculate average non-NA\n",
    "np.nanmean(datacned.score)\n",
    "\n",
    "# change plot size\n",
    "scatter1 = sns.pairplot(x_vars=\"score\", y_vars=\"region\", data=datacned, hue=\"area\", height=4)\n"
   ]
  },
  {
   "cell_type": "code",
   "execution_count": 2,
   "metadata": {},
   "outputs": [
    {
     "ename": "NameError",
     "evalue": "name 'load_dataset' is not defined",
     "output_type": "error",
     "traceback": [
      "\u001b[1;31m---------------------------------------------------------------------------\u001b[0m",
      "\u001b[1;31mNameError\u001b[0m                                 Traceback (most recent call last)",
      "\u001b[1;32m<ipython-input-2-d83d32955234>\u001b[0m in \u001b[0;36m<module>\u001b[1;34m\u001b[0m\n\u001b[0;32m      1\u001b[0m \u001b[1;31m#loading data into tableone\u001b[0m\u001b[1;33m\u001b[0m\u001b[1;33m\u001b[0m\u001b[1;33m\u001b[0m\u001b[0m\n\u001b[1;32m----> 2\u001b[1;33m \u001b[0mdata\u001b[0m\u001b[1;33m=\u001b[0m\u001b[0mload_dataset\u001b[0m\u001b[1;33m(\u001b[0m\u001b[1;34m'baseline1'\u001b[0m\u001b[1;33m)\u001b[0m\u001b[1;33m\u001b[0m\u001b[1;33m\u001b[0m\u001b[0m\n\u001b[0m\u001b[0;32m      3\u001b[0m \u001b[1;33m\u001b[0m\u001b[0m\n\u001b[0;32m      4\u001b[0m \u001b[1;31m#which variables are we using?\u001b[0m\u001b[1;33m\u001b[0m\u001b[1;33m\u001b[0m\u001b[1;33m\u001b[0m\u001b[0m\n\u001b[0;32m      5\u001b[0m columns = ['age','bili','albumin','ast','platelet','protime',\n",
      "\u001b[1;31mNameError\u001b[0m: name 'load_dataset' is not defined"
     ]
    }
   ],
   "source": [
    "#loading data into tableone\n",
    "data=load_dataset('baseline1')\n",
    "\n",
    "#which variables are we using?\n",
    "columns = ['age','bili','albumin','ast','platelet','protime',\n",
    "       'ascites','hepato','spiders','edema','sex', 'trt']\n",
    "\n",
    "#declare categorical\n",
    "categorical = ['ascites','hepato','edema','sex','spiders','trt']\n",
    "\n",
    "#options\n",
    "groupby = 'trt'\n",
    "nonnormal = ['bili']\n",
    "\n",
    "#runs tableone and stores in mytable\n",
    "mytable = TableOne(data, columns=columns, categorical=categorical,\n",
    "                   groupby=groupby, nonnormal=nonnormal, pval=True)\n",
    "\n",
    "#show stuff in screen\n",
    "print(mytable.tabulate(tablefmt=\"github\"))\n",
    "\n",
    "#exports to excel file\n",
    "mytable.to_excel('mytable.xlsx')"
   ]
  }
 ],
 "metadata": {
  "cite2c": {
   "citations": {
    "7126731/4MX2ZYJ4": {
     "author": [
      {
       "family": "Brazendale",
       "given": "Keith"
      },
      {
       "family": "Beets",
       "given": "Michael W."
      },
      {
       "family": "Weaver",
       "given": "R. Glenn"
      },
      {
       "family": "Pate",
       "given": "Russell R."
      },
      {
       "family": "Turner-McGrievy",
       "given": "Gabrielle M."
      },
      {
       "family": "Kaczynski",
       "given": "Andrew T."
      },
      {
       "family": "Chandler",
       "given": "Jessica L."
      },
      {
       "family": "Bohnert",
       "given": "Amy"
      },
      {
       "family": "von Hippel",
       "given": "Paul T."
      }
     ],
     "container-title": "International Journal of Behavioral Nutrition and Physical Activity",
     "id": "7126731/4MX2ZYJ4",
     "issue": "1",
     "issued": {
      "year": 2017
     },
     "note": "Publisher: Springer",
     "page": "100",
     "page-first": "100",
     "shortTitle": "Understanding differences between summer vs. school obesogenic behaviors of children",
     "title": "Understanding differences between summer vs. school obesogenic behaviors of children: the structured days hypothesis",
     "title-short": "Understanding differences between summer vs. school obesogenic behaviors of children",
     "type": "article-journal",
     "volume": "14"
    },
    "7126731/B5BNQPMA": {
     "author": [
      {
       "family": "Caro",
       "given": "Juan Carlos"
      }
     ],
     "id": "undefined",
     "issued": {
      "year": 2020
     },
     "title": "Parental investments, socioemotional development and nutritional health in Chile",
     "type": "article-journal"
    },
    "7126731/HT7UMQNH": {
     "author": [
      {
       "family": "Galea",
       "given": "Sandro"
      },
      {
       "family": "Merchant",
       "given": "Raina M."
      },
      {
       "family": "Lurie",
       "given": "Nicole"
      }
     ],
     "container-title": "JAMA internal medicine",
     "id": "7126731/HT7UMQNH",
     "issue": "6",
     "issued": {
      "year": 2020
     },
     "note": "Publisher: American Medical Association",
     "page": "817–818",
     "page-first": "817",
     "shortTitle": "The mental health consequences of COVID-19 and physical distancing",
     "title": "The mental health consequences of COVID-19 and physical distancing: The need for prevention and early intervention",
     "title-short": "The mental health consequences of COVID-19 and physical distancing",
     "type": "article-journal",
     "volume": "180"
    },
    "7126731/L3LQ5W4F": {
     "author": [
      {
       "family": "Pisano",
       "given": "Luca"
      },
      {
       "family": "Galimi",
       "given": "Domenico"
      },
      {
       "family": "Cerniglia",
       "given": "Luca"
      }
     ],
     "id": "7126731/L3LQ5W4F",
     "issued": {
      "year": 2020
     },
     "note": "Publisher: PsyArXiv",
     "title": "A qualitative report on exploratory data on the possible emotional/behavioral correlates of Covid-19 lockdown in 4-10 years children in Italy.",
     "type": "article-journal"
    },
    "7126731/PNIZUEGW": {
     "author": [
      {
       "family": "Brooks",
       "given": "Samantha K."
      },
      {
       "family": "Webster",
       "given": "Rebecca K."
      },
      {
       "family": "Smith",
       "given": "Louise E."
      },
      {
       "family": "Woodland",
       "given": "Lisa"
      },
      {
       "family": "Wessely",
       "given": "Simon"
      },
      {
       "family": "Greenberg",
       "given": "Neil"
      },
      {
       "family": "Rubin",
       "given": "Gideon James"
      }
     ],
     "container-title": "The Lancet",
     "id": "7126731/PNIZUEGW",
     "issued": {
      "year": 2020
     },
     "note": "Publisher: Elsevier",
     "shortTitle": "The psychological impact of quarantine and how to reduce it",
     "title": "The psychological impact of quarantine and how to reduce it: rapid review of the evidence",
     "title-short": "The psychological impact of quarantine and how to reduce it",
     "type": "article-journal"
    },
    "7126731/QRP825IZ": {
     "DOI": "10.1001/jamapediatrics.2016.0225",
     "URL": "https://jamanetwork.com/journals/jamapediatrics/fullarticle/2522754",
     "abstract": "This Viewpoint discusses the importance of pediatric and family medical homes in   assisting parents in the tasks of protecting, nurturing, guiding, and educating their children.",
     "accessed": {
      "day": 27,
      "month": 7,
      "year": 2020
     },
     "author": [
      {
       "family": "Perrin",
       "given": "Ellen C."
      },
      {
       "family": "Leslie",
       "given": "Laurel K."
      },
      {
       "family": "Boat",
       "given": "Thomas"
      }
     ],
     "container-title": "JAMA Pediatrics",
     "container-title-short": "JAMA Pediatr",
     "id": "7126731/QRP825IZ",
     "issue": "7",
     "issued": {
      "day": 1,
      "month": 7,
      "year": 2016
     },
     "journalAbbreviation": "JAMA Pediatr",
     "language": "en",
     "note": "Publisher: American Medical Association",
     "page": "637-638",
     "page-first": "637",
     "title": "Parenting as Primary Prevention",
     "type": "article-journal",
     "volume": "170"
    },
    "7126731/SM6SXUX5": {
     "author": [
      {
       "family": "Wang",
       "given": "Guanghai"
      },
      {
       "family": "Zhang",
       "given": "Jihui"
      },
      {
       "family": "Lam",
       "given": "Siu Ping"
      },
      {
       "family": "Li",
       "given": "Shirley Xin"
      },
      {
       "family": "Jiang",
       "given": "Yanrui"
      },
      {
       "family": "Sun",
       "given": "Wanqi"
      },
      {
       "family": "Chan",
       "given": "Ngan Yin"
      },
      {
       "family": "Kong",
       "given": "Alice Pik Shan"
      },
      {
       "family": "Zhang",
       "given": "Yunting"
      },
      {
       "family": "Li",
       "given": "Shenghui"
      }
     ],
     "container-title": "Journal of Clinical Sleep Medicine",
     "id": "7126731/SM6SXUX5",
     "issue": "10",
     "issued": {
      "year": 2019
     },
     "note": "Publisher: American Academy of Sleep Medicine",
     "page": "1495–1502",
     "page-first": "1495",
     "shortTitle": "Ten-year secular trends in sleep/wake patterns in Shanghai and Hong Kong school-aged children",
     "title": "Ten-year secular trends in sleep/wake patterns in Shanghai and Hong Kong school-aged children: a tale of two cities",
     "title-short": "Ten-year secular trends in sleep/wake patterns in Shanghai and Hong Kong school-aged children",
     "type": "article-journal",
     "volume": "15"
    },
    "7126731/UXGT9P9B": {
     "author": [
      {
       "family": "Pietrobelli",
       "given": "Angelo"
      },
      {
       "family": "Pecoraro",
       "given": "Luca"
      },
      {
       "family": "Ferruzzi",
       "given": "Alessandro"
      },
      {
       "family": "Heo",
       "given": "Moonseong"
      },
      {
       "family": "Faith",
       "given": "Myles"
      },
      {
       "family": "Zoller",
       "given": "Thomas"
      },
      {
       "family": "Antoniazzi",
       "given": "Franco"
      },
      {
       "family": "Piacentini",
       "given": "Giorgio"
      },
      {
       "family": "Fearnbach",
       "given": "S. Nicole"
      },
      {
       "family": "Heymsfield",
       "given": "Steven B."
      }
     ],
     "container-title": "Obesity",
     "id": "7126731/UXGT9P9B",
     "issued": {
      "year": 2020
     },
     "note": "Publisher: Wiley Online Library",
     "shortTitle": "Effects of COVID-19 lockdown on lifestyle behaviors in children with obesity living in Verona, Italy",
     "title": "Effects of COVID-19 lockdown on lifestyle behaviors in children with obesity living in Verona, Italy: a longitudinal study",
     "title-short": "Effects of COVID-19 lockdown on lifestyle behaviors in children with obesity living in Verona, Italy",
     "type": "article-journal"
    },
    "undefined": {
     "author": [
      {
       "family": "Caro",
       "given": "Juan Carlos"
      }
     ],
     "id": "undefined",
     "issued": {
      "year": 2020
     },
     "title": "Parental investments, socioemotional development and nutritional health in Chile",
     "type": "article-journal"
    }
   }
  },
  "kernelspec": {
   "display_name": "Python 3",
   "language": "python",
   "name": "python3"
  },
  "language_info": {
   "codemirror_mode": {
    "name": "ipython",
    "version": 3
   },
   "file_extension": ".py",
   "mimetype": "text/x-python",
   "name": "python",
   "nbconvert_exporter": "python",
   "pygments_lexer": "ipython3",
   "version": "3.7.6"
  }
 },
 "nbformat": 4,
 "nbformat_minor": 2
}
