{
 "cells": [
  {
   "cell_type": "code",
   "execution_count": null,
   "metadata": {},
   "outputs": [],
   "source": [
    "# Housekeeping\n",
    "\n",
    "# To get ZOTERO follow these steps:\n",
    "# install cite2c using powershell (pip install cite2c or python -m pip install cite2c)\n",
    "# then run python -m cite2c.install\n",
    "# restart Jupyter notebook"
   ]
  },
  {
   "cell_type": "code",
   "execution_count": 1,
   "metadata": {},
   "outputs": [],
   "source": [
    "import os # to create an interface with our operating system\n",
    "import sys # information on how our code is interacting with the host system\n",
    "\n",
    "#import pymongo as pm\n",
    "import pprint\n",
    "import requests\n",
    "import datetime\n",
    "import json\n",
    "import random\n",
    "import numpy as np\n",
    "import seaborn as sns\n",
    "import pandas as pd\n",
    "import matplotlib.pyplot as plt\n",
    "import scipy.stats as stats\n",
    "import math\n",
    "import statsmodels.stats.power as power\n",
    "#from tableone import TableOne, load_dataset\n",
    "\n",
    "%matplotlib inline"
   ]
  },
  {
   "cell_type": "markdown",
   "metadata": {},
   "source": [
    "Tareas pendientes:  \n",
    "- terminar modelo (Marce)  \n",
    "- estimation strategy & estimation strategy (Marce)   \n",
    "- acceso a data (Carlos)  "
   ]
  },
  {
   "cell_type": "markdown",
   "metadata": {},
   "source": [
    "## Gordito y feliz: a simple model of parental time and resource allocation for child development during Preschool\n",
    "\n",
    "Jere Berhman  \n",
    "Juan Carlos Caro  \n",
    "Marcela Parada  \n",
    "\n",
    "Preliminary, comments welcome.\n",
    "\n",
    "###### this version: July 2020"
   ]
  },
  {
   "cell_type": "markdown",
   "metadata": {},
   "source": [
    "#### Abstract\n",
    "\n",
    "\n",
    "\n",
    "Keywords: Parental Time, Socioemotional Development, Nutritional Status, Child Development, Human Capital, Preschool  \n",
    "JEL Codes: I12, J13, J24  "
   ]
  },
  {
   "cell_type": "markdown",
   "metadata": {},
   "source": [
    "### Background\n",
    "\n",
    "#### Motivation\n",
    "\n",
    "The COVID-19 pandemic placed the spotlight on the fragility of multiple institutions that support and contribute to childhood development and human capital accumuation. As such, the widespread lockdown due to the coronavirus is expected to increase in mental health problems, domestic violence, and child abuse, with a broad, substantive, and long-lasting impacts on psychosocial, physical and nutritional health<cite data-cite=\"7126731/HT7UMQNH\"></cite> <cite data-cite=\"7126731/PNIZUEGW\"></cite>, together with impacting  <cite data-cite=\"7126731/4MX2ZYJ4\"></cite><cite data-cite=\"7126731/SM6SXUX5\"></cite>. Effects might be particularly important for children who have been retracted from regular school activities and confined to their homes <cite data-cite=\"7126731/UXGT9P9B\"></cite><cite data-cite=\"7126731/L3LQ5W4F\"></cite>. \n",
    "\n",
    "In this context, the role of caregivers (primary or secondary, family and nonfamily) is key to prevent emotional and physical problems and to promote healthy stimuli in children <cite data-cite=\"undefined\"></cite><cite data-cite=\"7126731/QRP825IZ\"></cite><cite data-cite=\"7126731/HT7UMQNH\"></cite>. In order to develop effective programs and policies, we need to understand the underpinnings of intrahousehold dynamics. In particular, for a given child, two decisions are key: 1) how much material and time resources are allocated, and 2) how does a household decides the team of caregivers that will provide care for the child? We argue that, in resource scarce environments, primary caregivers often face choices that can lead to low time and material investments. However, depending on the caregiver's social support network and own beliefs on parenting styles, there can be substantial differences on the resources allocated to child development, as well as the composition of the caregiving team. \n",
    "\n",
    "#### Research question\n",
    "\n",
    "1) To jointly estimate the decisions of intrahousehold caregiver arrangements and parental investments.\n",
    "\n",
    "2) To explore the impacts of the quantity and quality of resources on children's physical and emotional development.  \n",
    "\n",
    "#### Data and methods\n",
    "\n",
    "This study contributes new evidence connecting parental behavior, socioemotional development, and nutritional status in a context of high overweight status prevalence, using rich administrative data from the Chilean National Board of School Aid and Scholarships (JUNAEB, Spanish acronym). The analysis follows a cohort of children that started Pre-Kindergarten in 2015  with repeated measurements at Kindergarten and First grade for nearly 200,000 students across 10,000 schools every year <cite data-cite=\"undefined\"></cite>. \n",
    "\n",
    "[TBC]\n",
    "\n",
    "#### Results \n",
    "\n",
    "[TBC]\n",
    "\n",
    "\n",
    "#### Contribution and related literature\n",
    "\n",
    "To date, there are only a few studies that model the intrahousehold investment process, often due to lack of data. [Del Boca] [Attanasio] []\n",
    "This study extends the literature, at least, in two meaningful ways. First,  \n",
    "\n",
    "\n"
   ]
  },
  {
   "cell_type": "markdown",
   "metadata": {},
   "source": [
    "### Theoretical framework\n",
    "\n",
    "Mother-centered decision model focused on the index child in three periods, Pre-Kinder and Kindergarten, and a terminal period at 1st Grade where decisions are not made.\\footnote{We could draw a sub-sample of parents with only one child to compare versus households where we are not focusing on the index child. We cannot identify who the primary caregiver is, but most of primary caregivers are mothers.} Choice variables are: labor supply ($L$), stimulation time ($I$), total number of caregivers for each kin ($C_j$ are dummy variables where $j$ indexes the kin), and school ($P_{k}$, where $k$ indexes the school).[<sup>1</sup>](#fn1)\n",
    "\n",
    "Timing: mothers observe $S_t, H_t$ and their choices made in the previous period ($P_{kt}$,$C_{jt}$,$L_t$). Then, they make choices for the next period $I_t, L_{t+1}, C_{j,t+1}, P_{k,t+1}$ in order to maximize the expected value function.    \n",
    "\n",
    "- Utility log-linear: $U_t=ln(c_t)+\\alpha_l ln(l_t)+ \\alpha_S ln(S_t)+ \\alpha_H ln(H_t)+ \\alpha_I ln(I_t+1)+v_t$  \n",
    "  \n",
    "where: $c$ is consumption, $l$ is leisure, $S$ is child socioemotional development, $H$ is child BMI z-score, $I$ is stimulation time and $v$ corresponds to household unobserved heterogeneity (effort cost on stimulation time, utility from other siblings, household composition, beliefs, etc).[<sup>2</sup>](#fn2)  \n",
    "\n",
    "- child time: $I+\\tau_p+\\tau_c=T_C$  \n",
    "  \n",
    "where $\\tau_p$ is time at school (30h/week including transportation), $T_C$ is total time excluding sleep (90h/week out of 144), and $\\tau_c$ is the time in \"home care\" (meals, homework, hygiene, plus child leisure). Total stimulation time ($I$) can go up to 35h/week (7 different activities for one hour per session, up to 5 times a week).  \n",
    "\n",
    "- primary caregiver (i.e. mother) time: $I+L+l=T_M$  \n",
    "  \n",
    "where $L$ is labor supply and $T_M$ is total mother available time (112 h/week). Labor supply and income data could be imputed from CASEN using professional degree, occupational area, commune, mother's age, schooling and gender.  \n",
    "\n",
    "- production functions: $H_{t}=A_{Ht}(H_{t-1}^{\\lambda_H} S_{t-1}^{\\lambda_S} (I_t q_I)^{\\lambda_I})$, \n",
    "$S_{t}=A_{St}(H_{t-1}^{\\lambda_H} S_{t-1}^{\\lambda_S} (I_t q_I)^{\\lambda_I})$  \n",
    "  \n",
    "where $q_I$ is the quality of stimulation time and the TFP is defined as $A_t=exp(\\delta_{0t}+\\delta_{Xt}X_t+e_t)$. $X$ includes child information at birth, household characteristics, school characteristics, participation in public programs and material investments. $X$ also includes two terms, $\\tau_p q_p$ and $\\tau_c q_c$, where  $q_c$ and $q_p$ are the quality of home care time and school time respectively.  \n",
    "\n",
    "- quality of child time: for each type of child time $\\{I, \\tau_p, \\tau_c \\}$, there is an equation to determine the quality as a function of observable characteristics (caregivers and school characteristics). Therefore, the contribution of each time on the production of skills (included the TFP) is measured in efficiency units, i.e., multiplied by quality indexes of common scale: $q_I, q_p, q_c$. Quality is not observed but considered a latent variable from a set of proxy (predetermined) variables: $q=W'\\pi+\\eta$, where $\\eta$ is a random shock.  \n",
    "\n",
    "Quality of stimulation time depends on primary caregiver \"fixed\" characteristics and there is no \"effort\". However, mothers have expectations on their self-efficacy and parental style (authoritarian) which can affect their productivity. Similarly social support, parental figures, cohabitation across generations, and other caregivers' background could also impact quality (these could vary over time). Therefore: $q_{st}=W_{st}`\\pi_s+C_t'\\omega_s+\\eta_s$  \n",
    "\n",
    "Similarly, home care quality depends on the choice of secondary caregivers in the previous period ($C_{jt}$), and the their observed characteristics. quality of schools ($q_p$) depends on relevant school information such as average test scores, classroom size, school vulnerability and other information of the school environment.  \n",
    "\n",
    "- budget constraint as: $w_t L_t = c_t + T_t - TR_t$  \n",
    "  \n",
    "where $T$ is the school tuition cost and $w$ is the hourly wage. $TR_t$ is the value of school investments (e.g. school meals programs and other goods and services given at the preschool level by JUNAEB). Consumption is not observed in the data, also there is little information on material investments, or assets (except for dwelling characteristics).  \n",
    "\n",
    "Household maximizes the present value function $V(\\Omega_t,v_t)$, where $\\Omega$ denotes the state space. The solution leads to demand functions $\\{ I_t,  L_t, C_{jt}, P_{kt} \\}$. Assuming error term is type I extreme-value distributed, there is a closed-form solution to the problem, in the exponential family. Furthermore, we can estimate the linear approximation to the solution as $V(\\Omega_t)=\\Omega_t`\\lambda$. Given the approximation, we can construct the joint likelihood function of all the relevant equations under joint normality.  \n",
    "\n",
    "Estimation proceeds as follows: First, we impute the labor market information. Secondly, we construct local school markets and observed secondary caregiver choices. Finally, we jointly estimate all the simultaneous equations following the approach proposed by Mroz and Guilkey (1992), allowing for random effects that are approximated using the discrete factor method.   \n",
    "\n",
    "Potential issues:  \n",
    "\n",
    "- Attrition: I propose to use the method of Wooldridge (2002) and estimate an attrition equation (similar to what I did in my dissertation). The DFRE method has a mechanisms to account for nonrandom attrition. In particular, we include an equation that models the probability of attrition the sample at the end of period $t$. The attrition equation is jointly estimated with the rest of the equations of the system.  The probability of attrition at the end of period $t$ depends on the updated information set which includes both observed and unobserved characteristics. \n",
    "\n",
    "- Parental beliefs: This is a critical point. Several papers show how poor households tend to underestimate the impact of stimulation time on ECD productivity. In principle, the only variables observed by the econometrician are parents' own perception of self-efficacy and parenting styles.  I worry that there will still be endogeneity between the error terms in the stimulation time equation and the production function (thus, we should model this as an outcome). \n",
    "\n",
    "- Material investments: This is very scarce in the data, except for school choice. Moreover, there is important information on children that use special devices for learning, given physical needs (e.g. hearing devices) but the proportion of students that have such needs are very small. I am concerned about the effect that ignoring that could have on the budget constraint."
   ]
  },
  {
   "cell_type": "markdown",
   "metadata": {},
   "source": [
    "Footnotes\n",
    "\n",
    "<span id=\"fn1\"> Less than 5 percent of households move between years.</span>\n",
    "<span id=\"fn2\"> Utility in the end period does not depend on stimulation time as it is not observed.</span>"
   ]
  },
  {
   "cell_type": "markdown",
   "metadata": {},
   "source": [
    "### Data and estimation strategy\n",
    "\n",
    "#### The JUNAEB data\n",
    "\n",
    "\n",
    "The main dataset follows a cohort of all Chilean children who attended Pre-K in 2015 until first grade of primary school, excluding those who attend private schools (less than ten percent of enrollment). On the one hand, teachers measure and collect information on children’s height and weight, while parents provide comprehensive household background information regarding family composition, children's health, and parenting practices. Next, schools consolidate and submit the information directly to JUNAEB each year during the school cycle. Therefore, this institution collects administrative, individual data each year directly through schools that recieve public funding. The analytical sample includes only the children measured every grade, roughly 60\\% of all students. Incomplete longitudinal links are due to the following reasons, in order of importance: absences during the day of measurement in one or more grades, repeating first grade, skipping one year between Kindergarten and first grade, and children not attending Kindergarten. We exclude students that report chronic illness or disabilities and those with implausible weight and height measurements as they introduce noise to the estimates.[<sup>3</sup>](#fn3) The final estimation sample is restricted to students attending urban schools with class sizes larger than ten students [<sup>4</sup>](#fn4), to recognize the differences in local food systems and school characteristics (84\\% of longitudinal dataset).\n",
    "\n"
   ]
  },
  {
   "cell_type": "markdown",
   "metadata": {},
   "source": [
    "Footnotes  \n",
    "\n",
    "<span id=\"fn1\">1. Less than 5 percent of households move between years.</span>  \n",
    "<span id=\"fn2\">2. Utility in the end period does not depend on stimulation time as it is not observed.</span>  \n",
    "<span id=\"fn3\">3. Among the students that are linked longitudinally, We also exclude cases where there are implausible changes in anthropometric measurements (e.g., height is lower in earlier data, relative to previous grades). The total number of excluded observations represents less than 2\\% of the raw data.</span>  \n",
    "<span id=\"fn4\">4. Average class size in first grade is 37 students, and 39 in urban areas.</span>  \n"
   ]
  },
  {
   "cell_type": "markdown",
   "metadata": {},
   "source": [
    "### Results\n"
   ]
  },
  {
   "cell_type": "code",
   "execution_count": 7,
   "metadata": {
    "scrolled": true
   },
   "outputs": [],
   "source": [
    "# baseline data\n",
    "datacned = pd.read_csv('../data/cned.csv')\n",
    "\n",
    "# preview dataframe\n",
    "datacned.head()\n",
    "\n",
    "# drops na cells\n",
    "datacned.dropna(inplace=True)\n",
    "\n",
    "# change column name\n",
    "datacned.rename(columns={\"puntaje\": \"score\"}, inplace=True)\n",
    "\n",
    "# calculate average non-NA\n",
    "np.nanmean(datacned.score)\n",
    "\n",
    "# change plot size\n",
    "scatter1 = sns.pairplot(x_vars=\"score\", y_vars=\"region\", data=datacned, hue=\"area\", height=4)\n"
   ]
  },
  {
   "cell_type": "code",
   "execution_count": null,
   "metadata": {},
   "outputs": [],
   "source": [
    "#loading data into tableone\n",
    "data=load_dataset('baseline1')\n",
    "\n",
    "#which variables are we using?\n",
    "columns = ['age','bili','albumin','ast','platelet','protime',\n",
    "       'ascites','hepato','spiders','edema','sex', 'trt']\n",
    "\n",
    "#declare categorical\n",
    "categorical = ['ascites','hepato','edema','sex','spiders','trt']\n",
    "\n",
    "#options\n",
    "groupby = 'trt'\n",
    "nonnormal = ['bili']\n",
    "\n",
    "#runs tableone and stores in mytable\n",
    "mytable = TableOne(data, columns=columns, categorical=categorical,\n",
    "                   groupby=groupby, nonnormal=nonnormal, pval=True)\n",
    "\n",
    "#show stuff in screen\n",
    "print(mytable.tabulate(tablefmt=\"github\"))\n",
    "\n",
    "#exports to excel file\n",
    "mytable.to_excel('mytable.xlsx')"
   ]
  }
 ],
 "metadata": {
  "cite2c": {
   "citations": {
    "7126731/4MX2ZYJ4": {
     "author": [
      {
       "family": "Brazendale",
       "given": "Keith"
      },
      {
       "family": "Beets",
       "given": "Michael W."
      },
      {
       "family": "Weaver",
       "given": "R. Glenn"
      },
      {
       "family": "Pate",
       "given": "Russell R."
      },
      {
       "family": "Turner-McGrievy",
       "given": "Gabrielle M."
      },
      {
       "family": "Kaczynski",
       "given": "Andrew T."
      },
      {
       "family": "Chandler",
       "given": "Jessica L."
      },
      {
       "family": "Bohnert",
       "given": "Amy"
      },
      {
       "family": "von Hippel",
       "given": "Paul T."
      }
     ],
     "container-title": "International Journal of Behavioral Nutrition and Physical Activity",
     "id": "7126731/4MX2ZYJ4",
     "issue": "1",
     "issued": {
      "year": 2017
     },
     "note": "Publisher: Springer",
     "page": "100",
     "page-first": "100",
     "shortTitle": "Understanding differences between summer vs. school obesogenic behaviors of children",
     "title": "Understanding differences between summer vs. school obesogenic behaviors of children: the structured days hypothesis",
     "title-short": "Understanding differences between summer vs. school obesogenic behaviors of children",
     "type": "article-journal",
     "volume": "14"
    },
    "7126731/B5BNQPMA": {
     "author": [
      {
       "family": "Caro",
       "given": "Juan Carlos"
      }
     ],
     "id": "undefined",
     "issued": {
      "year": 2020
     },
     "title": "Parental investments, socioemotional development and nutritional health in Chile",
     "type": "article-journal"
    },
    "7126731/HT7UMQNH": {
     "author": [
      {
       "family": "Galea",
       "given": "Sandro"
      },
      {
       "family": "Merchant",
       "given": "Raina M."
      },
      {
       "family": "Lurie",
       "given": "Nicole"
      }
     ],
     "container-title": "JAMA internal medicine",
     "id": "7126731/HT7UMQNH",
     "issue": "6",
     "issued": {
      "year": 2020
     },
     "note": "Publisher: American Medical Association",
     "page": "817–818",
     "page-first": "817",
     "shortTitle": "The mental health consequences of COVID-19 and physical distancing",
     "title": "The mental health consequences of COVID-19 and physical distancing: The need for prevention and early intervention",
     "title-short": "The mental health consequences of COVID-19 and physical distancing",
     "type": "article-journal",
     "volume": "180"
    },
    "7126731/L3LQ5W4F": {
     "author": [
      {
       "family": "Pisano",
       "given": "Luca"
      },
      {
       "family": "Galimi",
       "given": "Domenico"
      },
      {
       "family": "Cerniglia",
       "given": "Luca"
      }
     ],
     "id": "7126731/L3LQ5W4F",
     "issued": {
      "year": 2020
     },
     "note": "Publisher: PsyArXiv",
     "title": "A qualitative report on exploratory data on the possible emotional/behavioral correlates of Covid-19 lockdown in 4-10 years children in Italy.",
     "type": "article-journal"
    },
    "7126731/PNIZUEGW": {
     "author": [
      {
       "family": "Brooks",
       "given": "Samantha K."
      },
      {
       "family": "Webster",
       "given": "Rebecca K."
      },
      {
       "family": "Smith",
       "given": "Louise E."
      },
      {
       "family": "Woodland",
       "given": "Lisa"
      },
      {
       "family": "Wessely",
       "given": "Simon"
      },
      {
       "family": "Greenberg",
       "given": "Neil"
      },
      {
       "family": "Rubin",
       "given": "Gideon James"
      }
     ],
     "container-title": "The Lancet",
     "id": "7126731/PNIZUEGW",
     "issued": {
      "year": 2020
     },
     "note": "Publisher: Elsevier",
     "shortTitle": "The psychological impact of quarantine and how to reduce it",
     "title": "The psychological impact of quarantine and how to reduce it: rapid review of the evidence",
     "title-short": "The psychological impact of quarantine and how to reduce it",
     "type": "article-journal"
    },
    "7126731/QRP825IZ": {
     "DOI": "10.1001/jamapediatrics.2016.0225",
     "URL": "https://jamanetwork.com/journals/jamapediatrics/fullarticle/2522754",
     "abstract": "This Viewpoint discusses the importance of pediatric and family medical homes in   assisting parents in the tasks of protecting, nurturing, guiding, and educating their children.",
     "accessed": {
      "day": 27,
      "month": 7,
      "year": 2020
     },
     "author": [
      {
       "family": "Perrin",
       "given": "Ellen C."
      },
      {
       "family": "Leslie",
       "given": "Laurel K."
      },
      {
       "family": "Boat",
       "given": "Thomas"
      }
     ],
     "container-title": "JAMA Pediatrics",
     "container-title-short": "JAMA Pediatr",
     "id": "7126731/QRP825IZ",
     "issue": "7",
     "issued": {
      "day": 1,
      "month": 7,
      "year": 2016
     },
     "journalAbbreviation": "JAMA Pediatr",
     "language": "en",
     "note": "Publisher: American Medical Association",
     "page": "637-638",
     "page-first": "637",
     "title": "Parenting as Primary Prevention",
     "type": "article-journal",
     "volume": "170"
    },
    "7126731/SM6SXUX5": {
     "author": [
      {
       "family": "Wang",
       "given": "Guanghai"
      },
      {
       "family": "Zhang",
       "given": "Jihui"
      },
      {
       "family": "Lam",
       "given": "Siu Ping"
      },
      {
       "family": "Li",
       "given": "Shirley Xin"
      },
      {
       "family": "Jiang",
       "given": "Yanrui"
      },
      {
       "family": "Sun",
       "given": "Wanqi"
      },
      {
       "family": "Chan",
       "given": "Ngan Yin"
      },
      {
       "family": "Kong",
       "given": "Alice Pik Shan"
      },
      {
       "family": "Zhang",
       "given": "Yunting"
      },
      {
       "family": "Li",
       "given": "Shenghui"
      }
     ],
     "container-title": "Journal of Clinical Sleep Medicine",
     "id": "7126731/SM6SXUX5",
     "issue": "10",
     "issued": {
      "year": 2019
     },
     "note": "Publisher: American Academy of Sleep Medicine",
     "page": "1495–1502",
     "page-first": "1495",
     "shortTitle": "Ten-year secular trends in sleep/wake patterns in Shanghai and Hong Kong school-aged children",
     "title": "Ten-year secular trends in sleep/wake patterns in Shanghai and Hong Kong school-aged children: a tale of two cities",
     "title-short": "Ten-year secular trends in sleep/wake patterns in Shanghai and Hong Kong school-aged children",
     "type": "article-journal",
     "volume": "15"
    },
    "7126731/UXGT9P9B": {
     "author": [
      {
       "family": "Pietrobelli",
       "given": "Angelo"
      },
      {
       "family": "Pecoraro",
       "given": "Luca"
      },
      {
       "family": "Ferruzzi",
       "given": "Alessandro"
      },
      {
       "family": "Heo",
       "given": "Moonseong"
      },
      {
       "family": "Faith",
       "given": "Myles"
      },
      {
       "family": "Zoller",
       "given": "Thomas"
      },
      {
       "family": "Antoniazzi",
       "given": "Franco"
      },
      {
       "family": "Piacentini",
       "given": "Giorgio"
      },
      {
       "family": "Fearnbach",
       "given": "S. Nicole"
      },
      {
       "family": "Heymsfield",
       "given": "Steven B."
      }
     ],
     "container-title": "Obesity",
     "id": "7126731/UXGT9P9B",
     "issued": {
      "year": 2020
     },
     "note": "Publisher: Wiley Online Library",
     "shortTitle": "Effects of COVID-19 lockdown on lifestyle behaviors in children with obesity living in Verona, Italy",
     "title": "Effects of COVID-19 lockdown on lifestyle behaviors in children with obesity living in Verona, Italy: a longitudinal study",
     "title-short": "Effects of COVID-19 lockdown on lifestyle behaviors in children with obesity living in Verona, Italy",
     "type": "article-journal"
    },
    "undefined": {
     "author": [
      {
       "family": "Caro",
       "given": "Juan Carlos"
      }
     ],
     "id": "undefined",
     "issued": {
      "year": 2020
     },
     "title": "Parental investments, socioemotional development and nutritional health in Chile",
     "type": "article-journal"
    }
   }
  },
  "kernelspec": {
   "display_name": "Python 3",
   "language": "python",
   "name": "python3"
  },
  "language_info": {
   "codemirror_mode": {
    "name": "ipython",
    "version": 3
   },
   "file_extension": ".py",
   "mimetype": "text/x-python",
   "name": "python",
   "nbconvert_exporter": "python",
   "pygments_lexer": "ipython3",
   "version": "3.7.6"
  }
 },
 "nbformat": 4,
 "nbformat_minor": 2
}
